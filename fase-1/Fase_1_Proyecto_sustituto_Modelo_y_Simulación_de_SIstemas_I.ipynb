{
  "cells": [
    {
      "cell_type": "markdown",
      "metadata": {
        "id": "NZxKgY0xMjjy"
      },
      "source": [
        "# Modelo y Simulación de Sistemas I - Proyecto Sustituto\n",
        "Jimmy White Gómez Ramos 1011590254 \\\n",
        "Levis Javier Aguiar Torres 1005664227\\\n",
        "\\\n",
        "Universidad de Antioquia 2025-2\n",
        "\n"
      ]
    },
    {
      "cell_type": "markdown",
      "metadata": {
        "id": "ClQ-QFx3LYHr"
      },
      "source": [
        "# Predicción de duración de viajes en taxi - Competición Kaggle\n",
        "\n",
        "Este notebook implementa un flujo completo para la competición\n",
        "**NYC Taxi Trip Duration** en Kaggle.\n",
        "www.kaggle.com/competitions/nyc-taxi-trip-duration/\n",
        "\n",
        "## Índice de secciones\n",
        "1. [Conexión con KaggleHub](#1-conexión-con-kagglehub)  \n",
        "2. [Descarga del dataset de Kaggle](#2-descarga-del-dataset-de-kaggle)  \n",
        "3. [Importación de librerías y exploración de archivos descargados](#3-importación-de-librerías-y-exploración-de-archivos-descargados)  \n",
        "4. [Carga de los datos de entrenamiento y prueba](#4-carga-de-los-datos-de-entrenamiento-y-prueba)  \n",
        "5. [Descripción inicial de los datos](#5-descripción-inicial-de-los-datos)  \n",
        "6. [Función para calcular la distancia Haversine](#6-función-para-calcular-la-distancia-haversine)  \n",
        "7. [Función de cálculo de distancia](#7-función-de-cálculo-de-distancia)  \n",
        "8. [Instalación e importación de librerías meteorológicas](#8-instalación-e-importación-de-librerías-meteorológicas)  \n",
        "9. [Preprocesamiento de datos climáticos](#9-preprocesamiento-de-datos-climáticos)  \n",
        "10. [Función de extracción de características temporales](#10-función-de-extracción-de-características-temporales)  \n",
        "11. [Función para unir clima con datos de viajes](#11-función-para-unir-clima-con-datos-de-viajes)  \n",
        "12. [Selección de características](#12-selección-de-características)  \n",
        "13. [Función para dividir los datos en X (features) e y (variable objetivo)](#13-función-para-dividir-los-datos-en-x-features-e-y-variable-objetivo)  \n",
        "14. [Importación de modelos y utilidades de scikit-learn](#14-importación-de-modelos-y-utilidades-de-scikit-learn)  \n",
        "15. [Preparación de los datos de entrenamiento y prueba](#15-preparación-de-los-datos-de-entrenamiento-y-prueba)  \n",
        "16. [Entrenamiento del modelo con LightGBM](#16-entrenamiento-del-modelo-con-lightgbm)  \n",
        "17. [Predicción y generación de archivo de submission](#17-predicción-y-generación-de-archivo-de-submission)  \n"
      ]
    },
    {
      "cell_type": "markdown",
      "metadata": {
        "id": "r1nPxe0RHtSZ"
      },
      "source": [
        "### 1. Conexión con KaggleHub  \n",
        "Se realiza el inicio de sesión en KaggleHub para poder descargar los datos del dataset\n",
        "de la competición *NYC Taxi Trip Duration*."
      ]
    },
    {
      "cell_type": "code",
      "execution_count": 1,
      "metadata": {
        "colab": {
          "base_uri": "https://localhost:8080/",
          "height": 273,
          "referenced_widgets": [
            "8a7780402cbe4e959a1183b6d0c18a3f",
            "e80866d3a7f641318db61158b7ce4dce",
            "36e1afea2a15480a9c86d4ed75ba9e6f",
            "5d40b45550a546549c6079bbe9fe17cf",
            "80b0cc8fc54f47beaf191917adb033e0",
            "30880c444d0042e7acb6573a3249ccfe",
            "a303abcd24604a1e91b97dc0d9510d27",
            "819623c9e06048efa6affa7d69cfc4e3",
            "c9cce02a624945a5b6b65d5e75b1bd5a",
            "3b704de778d34a93857ff8dfcd3012b8",
            "c89cde7e429f49a9a483d166a3583f4d",
            "3fb9e0ad2cd041d2bd7aa9b49ee39925",
            "62409ba2867a4da9937c6e730d0c6780",
            "411a62ed7db94c7c9045f7455c96f3b2",
            "3b7766f8e5a9422dbef19dc40ee1a5bf",
            "2e5a92a7bab44645b1f5d84640479d84",
            "b383fad706184c99b4087869d69a2482"
          ]
        },
        "collapsed": true,
        "id": "nRii523RqJR4",
        "outputId": "e764e0be-dc9e-4f5f-c2b9-9b804b76332a"
      },
      "outputs": [
        {
          "ename": "ModuleNotFoundError",
          "evalue": "No module named 'kagglehub'",
          "output_type": "error",
          "traceback": [
            "\u001b[31m---------------------------------------------------------------------------\u001b[39m",
            "\u001b[31mModuleNotFoundError\u001b[39m                       Traceback (most recent call last)",
            "\u001b[36mCell\u001b[39m\u001b[36m \u001b[39m\u001b[32mIn[1]\u001b[39m\u001b[32m, line 1\u001b[39m\n\u001b[32m----> \u001b[39m\u001b[32m1\u001b[39m \u001b[38;5;28;01mimport\u001b[39;00m\u001b[38;5;250m \u001b[39m\u001b[34;01mkagglehub\u001b[39;00m\n\u001b[32m      2\u001b[39m kagglehub.login()\n",
            "\u001b[31mModuleNotFoundError\u001b[39m: No module named 'kagglehub'"
          ]
        }
      ],
      "source": [
        "import kagglehub\n",
        "kagglehub.login()"
      ]
    },
    {
      "cell_type": "markdown",
      "metadata": {
        "id": "WHzobZNqIB_B"
      },
      "source": [
        "### 2. Descarga del dataset de Kaggle\n",
        "Se descarga el dataset de la competición `nyc-taxi-trip-duration` y se muestra la ruta\n",
        "donde quedan almacenados los archivos.\n",
        "**NOTA:** Hay que inscribirse en la competición para poder hacer la descarga remota del dataset."
      ]
    },
    {
      "cell_type": "code",
      "execution_count": null,
      "metadata": {
        "colab": {
          "base_uri": "https://localhost:8080/"
        },
        "id": "4D03AcrdqJR5",
        "outputId": "5fcd7ec8-4acf-4932-f72b-4aaf7335be0d"
      },
      "outputs": [
        {
          "name": "stdout",
          "output_type": "stream",
          "text": [
            "Ruta de descarga: /root/.cache/kagglehub/competitions/nyc-taxi-trip-duration\n",
            "Data source import complete.\n"
          ]
        }
      ],
      "source": [
        "nyc_taxi_trip_duration_path = kagglehub.competition_download('nyc-taxi-trip-duration')\n",
        "\n",
        "print(\"Ruta de descarga:\", nyc_taxi_trip_duration_path)\n",
        "print('Data source import complete.')"
      ]
    },
    {
      "cell_type": "markdown",
      "metadata": {
        "id": "d8yhWgv5IOs5"
      },
      "source": [
        "### 3. Importación de librerías y exploración de archivos descargados\n",
        "En esta celda se importan las librerías principales necesarias para el análisis:\n",
        "\n",
        "- `numpy`: operaciones matemáticas y algebra lineal.  \n",
        "- `pandas`: manipulación y análisis de datos en formato tabular.  \n",
        "- `zipfile`: manejo de archivos comprimidos en formato `.zip`.  \n",
        "- `math`: funciones matemáticas adicionales.  \n",
        "- `os`: permite interactuar con el sistema de archivos.  \n",
        "\n",
        "Posteriormente, se recorre el directorio donde KaggleHub descargó los datos de la competición\n",
        "(`nyc_taxi_trip_duration_path`) y se imprime la ruta de cada archivo disponible,\n",
        "para verificar que la descarga fue correcta.\n"
      ]
    },
    {
      "cell_type": "code",
      "execution_count": null,
      "metadata": {
        "_cell_guid": "b1076dfc-b9ad-4769-8c92-a6c4dae69d19",
        "_uuid": "8f2839f25d086af736a60e9eeb907d3b93b6e0e5",
        "colab": {
          "base_uri": "https://localhost:8080/"
        },
        "execution": {
          "iopub.execute_input": "2025-09-02T18:15:47.391734Z",
          "iopub.status.busy": "2025-09-02T18:15:47.3914Z",
          "iopub.status.idle": "2025-09-02T18:15:47.401493Z",
          "shell.execute_reply": "2025-09-02T18:15:47.399933Z",
          "shell.execute_reply.started": "2025-09-02T18:15:47.391714Z"
        },
        "id": "Gs5ByC26qJR5",
        "outputId": "7e52293c-8b32-4976-fb5e-8f66dbb4b154",
        "trusted": true
      },
      "outputs": [
        {
          "name": "stdout",
          "output_type": "stream",
          "text": [
            "/root/.cache/kagglehub/competitions/nyc-taxi-trip-duration/train.zip\n",
            "/root/.cache/kagglehub/competitions/nyc-taxi-trip-duration/test.zip\n",
            "/root/.cache/kagglehub/competitions/nyc-taxi-trip-duration/sample_submission.zip\n"
          ]
        }
      ],
      "source": [
        "import numpy as np\n",
        "import pandas as pd\n",
        "import zipfile\n",
        "import math\n",
        "\n",
        "import os\n",
        "for dirname, _, filenames in os.walk(nyc_taxi_trip_duration_path):\n",
        "    for filename in filenames:\n",
        "        print(os.path.join(dirname, filename))"
      ]
    },
    {
      "cell_type": "markdown",
      "metadata": {
        "id": "yWZXgdwcImLY"
      },
      "source": [
        "### 4. Carga de los datos de entrenamiento y prueba\n",
        "Se leen los archivos `train.csv` y `test.csv` que vienen comprimidos en formato `.zip`.  \n",
        "Las columnas de fechas se parsean como objetos datetime para poder realizar análisis temporales.\n"
      ]
    },
    {
      "cell_type": "code",
      "execution_count": null,
      "metadata": {
        "execution": {
          "iopub.execute_input": "2025-09-02T18:15:47.403773Z",
          "iopub.status.busy": "2025-09-02T18:15:47.403496Z",
          "iopub.status.idle": "2025-09-02T18:15:56.333451Z",
          "shell.execute_reply": "2025-09-02T18:15:56.332132Z",
          "shell.execute_reply.started": "2025-09-02T18:15:47.403751Z"
        },
        "id": "SGqZG8btqJR5",
        "trusted": true
      },
      "outputs": [],
      "source": [
        "zf = zipfile.ZipFile(f'{nyc_taxi_trip_duration_path}/train.zip')\n",
        "train = pd.read_csv(zf.open('train.csv'),parse_dates=['pickup_datetime','dropoff_datetime'])\n",
        "\n",
        "zf = zipfile.ZipFile(f'{nyc_taxi_trip_duration_path}/test.zip')\n",
        "test = pd.read_csv(zf.open('test.csv'),parse_dates=['pickup_datetime'])"
      ]
    },
    {
      "cell_type": "markdown",
      "metadata": {
        "id": "LVO180FQIoq4"
      },
      "source": [
        "### 5. Descripción inicial de los datos\n",
        "Se muestran información básica de los datasets de entrenamiento y prueba:\n",
        "- Dimensiones de las tablas (`shape`)  \n",
        "- Estadísticos descriptivos (`describe`)  \n",
        "- Presencia de valores nulos (`isna`)  \n",
        "\n",
        "Esto permite verificar la calidad inicial y consistencia de los datos.\n"
      ]
    },
    {
      "cell_type": "code",
      "execution_count": null,
      "metadata": {
        "colab": {
          "base_uri": "https://localhost:8080/"
        },
        "collapsed": true,
        "execution": {
          "iopub.execute_input": "2025-09-02T18:15:56.33506Z",
          "iopub.status.busy": "2025-09-02T18:15:56.334697Z",
          "iopub.status.idle": "2025-09-02T18:15:57.328199Z",
          "shell.execute_reply": "2025-09-02T18:15:57.327103Z",
          "shell.execute_reply.started": "2025-09-02T18:15:56.335025Z"
        },
        "id": "HBZst18CqJR6",
        "outputId": "fea60f80-c0d7-4b49-9706-86237cd8bba8",
        "trusted": true
      },
      "outputs": [
        {
          "name": "stdout",
          "output_type": "stream",
          "text": [
            "train shape\n",
            "(1458644, 11)\n",
            "train describe\n",
            "          vendor_id                pickup_datetime  \\\n",
            "count  1.458644e+06                        1458644   \n",
            "mean   1.534950e+00  2016-04-01 10:10:24.940037120   \n",
            "min    1.000000e+00            2016-01-01 00:00:17   \n",
            "25%    1.000000e+00  2016-02-17 16:46:04.249999872   \n",
            "50%    2.000000e+00            2016-04-01 17:19:40   \n",
            "75%    2.000000e+00  2016-05-15 03:56:08.750000128   \n",
            "max    2.000000e+00            2016-06-30 23:59:39   \n",
            "std    4.987772e-01                            NaN   \n",
            "\n",
            "                    dropoff_datetime  passenger_count  pickup_longitude  \\\n",
            "count                        1458644     1.458644e+06      1.458644e+06   \n",
            "mean   2016-04-01 10:26:24.432310528     1.664530e+00     -7.397349e+01   \n",
            "min              2016-01-01 00:03:31     0.000000e+00     -1.219333e+02   \n",
            "25%       2016-02-17 17:05:32.500000     1.000000e+00     -7.399187e+01   \n",
            "50%              2016-04-01 17:35:12     1.000000e+00     -7.398174e+01   \n",
            "75%    2016-05-15 04:10:51.750000128     2.000000e+00     -7.396733e+01   \n",
            "max              2016-07-01 23:02:03     9.000000e+00     -6.133553e+01   \n",
            "std                              NaN     1.314242e+00      7.090186e-02   \n",
            "\n",
            "       pickup_latitude  dropoff_longitude  dropoff_latitude  trip_duration  \n",
            "count     1.458644e+06       1.458644e+06      1.458644e+06   1.458644e+06  \n",
            "mean      4.075092e+01      -7.397342e+01      4.075180e+01   9.594923e+02  \n",
            "min       3.435970e+01      -1.219333e+02      3.218114e+01   1.000000e+00  \n",
            "25%       4.073735e+01      -7.399133e+01      4.073588e+01   3.970000e+02  \n",
            "50%       4.075410e+01      -7.397975e+01      4.075452e+01   6.620000e+02  \n",
            "75%       4.076836e+01      -7.396301e+01      4.076981e+01   1.075000e+03  \n",
            "max       5.188108e+01      -6.133553e+01      4.392103e+01   3.526282e+06  \n",
            "std       3.288119e-02       7.064327e-02      3.589056e-02   5.237432e+03  \n",
            "train info\n",
            "id                    False\n",
            "vendor_id             False\n",
            "pickup_datetime       False\n",
            "dropoff_datetime      False\n",
            "passenger_count       False\n",
            "pickup_longitude      False\n",
            "pickup_latitude       False\n",
            "dropoff_longitude     False\n",
            "dropoff_latitude      False\n",
            "store_and_fwd_flag    False\n",
            "trip_duration         False\n",
            "dtype: bool\n",
            "\n",
            "test shape\n",
            "(625134, 9)\n",
            "\n",
            "test describe\n",
            "           vendor_id                pickup_datetime  passenger_count  \\\n",
            "count  625134.000000                         625134    625134.000000   \n",
            "mean        1.534884  2016-04-01 13:27:01.567467264         1.661765   \n",
            "min         1.000000            2016-01-01 00:00:22         0.000000   \n",
            "25%         1.000000            2016-02-17 19:44:19         1.000000   \n",
            "50%         2.000000            2016-04-01 20:01:43         1.000000   \n",
            "75%         2.000000  2016-05-15 10:07:52.750000128         2.000000   \n",
            "max         2.000000            2016-06-30 23:59:58         9.000000   \n",
            "std         0.498782                            NaN         1.311293   \n",
            "\n",
            "       pickup_longitude  pickup_latitude  dropoff_longitude  dropoff_latitude  \n",
            "count     625134.000000    625134.000000      625134.000000     625134.000000  \n",
            "mean         -73.973614        40.750927         -73.973458         40.751816  \n",
            "min         -121.933128        37.389587        -121.933327         36.601322  \n",
            "25%          -73.991852        40.737392         -73.991318         40.736000  \n",
            "50%          -73.981743        40.754093         -73.979774         40.754543  \n",
            "75%          -73.967400        40.768394         -73.963013         40.769852  \n",
            "max          -69.248917        42.814938         -67.496796         48.857597  \n",
            "std            0.073389         0.029848           0.072565          0.035824  \n",
            "test info\n",
            "id                    False\n",
            "vendor_id             False\n",
            "pickup_datetime       False\n",
            "passenger_count       False\n",
            "pickup_longitude      False\n",
            "pickup_latitude       False\n",
            "dropoff_longitude     False\n",
            "dropoff_latitude      False\n",
            "store_and_fwd_flag    False\n",
            "dtype: bool\n"
          ]
        }
      ],
      "source": [
        "print(f'train shape\\n{train.shape}')\n",
        "print(f'train describe\\n{train.describe()}')\n",
        "print(f'train info\\n{train.isna().any()}')\n",
        "print(f'\\ntest shape\\n{test.shape}')\n",
        "print(f'\\ntest describe\\n{test.describe()}')\n",
        "print(f'test info\\n{test.isna().any()}')"
      ]
    },
    {
      "cell_type": "markdown",
      "metadata": {
        "id": "mrLyr7TEJJ4R"
      },
      "source": [
        "### 6. Función para calcular la distancia Haversine\n",
        "Se implementa una función auxiliar que calcula la distancia (en km) entre dos puntos\n",
        "geográficos (latitud y longitud) usando la fórmula de Haversine.  \n",
        "Esta será la base para generar la variable `distance_km`.\n"
      ]
    },
    {
      "cell_type": "code",
      "execution_count": null,
      "metadata": {
        "execution": {
          "iopub.execute_input": "2025-09-02T18:15:57.330759Z",
          "iopub.status.busy": "2025-09-02T18:15:57.33042Z",
          "iopub.status.idle": "2025-09-02T18:15:57.337Z",
          "shell.execute_reply": "2025-09-02T18:15:57.336025Z",
          "shell.execute_reply.started": "2025-09-02T18:15:57.330734Z"
        },
        "id": "50V5huhMqJR6",
        "trusted": true
      },
      "outputs": [],
      "source": [
        "def haversine(lat1, lon1, lat2, lon2):\n",
        "    \"\"\"\n",
        "    Calcula la distancia entre dos puntos geográficos utilizando la fórmula de Haversine.\n",
        "\n",
        "    Args:\n",
        "        lat1 (float or np.array): Latitud del primer punto en grados decimales.\n",
        "        lon1 (float or np.array): Longitud del primer punto en grados decimales.\n",
        "        lat2 (float or np.array): Latitud del segundo punto en grados decimales.\n",
        "        lon2 (float or np.array): Longitud del segundo punto en grados decimales.\n",
        "\n",
        "    Returns:\n",
        "        float or np.array: Distancia entre los dos puntos en kilómetros.\n",
        "    \"\"\"\n",
        "    R = 6371.0\n",
        "\n",
        "    phi1 = np.radians(lat1)\n",
        "    phi2 = np.radians(lat2)\n",
        "    delta_phi = np.radians(lat2 - lat1)\n",
        "    delta_lambda = np.radians(lon2 - lon1)\n",
        "\n",
        "    a = np.sin(delta_phi / 2)**2 + np.cos(phi1) * np.cos(phi2) * np.sin(delta_lambda / 2)**2\n",
        "    c = 2 * np.arctan2(np.sqrt(a), np.sqrt(1 - a))\n",
        "\n",
        "    distance = R * c\n",
        "    return distance"
      ]
    },
    {
      "cell_type": "markdown",
      "metadata": {
        "id": "IrEX8FocJNCJ"
      },
      "source": [
        "### 7. Función de cálculo de distancia\n",
        "Usando la fórmula de Haversine, se agrega al DataFrame una nueva columna `distance_km`\n",
        "con la distancia calculada entre origen y destino de cada viaje.\n"
      ]
    },
    {
      "cell_type": "code",
      "execution_count": null,
      "metadata": {
        "execution": {
          "iopub.execute_input": "2025-09-02T18:15:57.338303Z",
          "iopub.status.busy": "2025-09-02T18:15:57.338011Z",
          "iopub.status.idle": "2025-09-02T18:15:57.359649Z",
          "shell.execute_reply": "2025-09-02T18:15:57.35838Z",
          "shell.execute_reply.started": "2025-09-02T18:15:57.338278Z"
        },
        "id": "hjzJyVKhqJR6",
        "trusted": true
      },
      "outputs": [],
      "source": [
        "def distance(df):\n",
        "    \"\"\"\n",
        "    Agrega al DataFrame una nueva columna con la distancia recorrida en cada viaje,\n",
        "    calculada a partir de las coordenadas de origen y destino.\n",
        "\n",
        "    Args:\n",
        "        df (pd.DataFrame): DataFrame que contiene las columnas\n",
        "            'pickup_latitude', 'pickup_longitude', 'dropoff_latitude', 'dropoff_longitude'.\n",
        "\n",
        "    Returns:\n",
        "        pd.DataFrame: DataFrame original con una nueva columna 'distance_km'.\n",
        "    \"\"\"\n",
        "    coords  = (df['pickup_latitude'],df['pickup_longitude'],df['dropoff_latitude'],df['dropoff_longitude'])\n",
        "    df['distance_km'] = haversine(*coords)\n",
        "    # df['speed_m_s'] = df['distance_km']*1000/df['trip_duration']\n",
        "    # df['diff_seconds'] = (df['dropoff_datetime'] - df['pickup_datetime']).dt.total_seconds()\n",
        "    return df"
      ]
    },
    {
      "cell_type": "markdown",
      "metadata": {
        "id": "w-ThkuuJKQx6"
      },
      "source": [
        "### 8. Instalación e importación de librerías meteorológicas\n",
        "Se instala `meteostat`, se importa la clase `Point` y los métodos `Daily` y `Hourly`\n",
        "para obtener datos climáticos históricos de Nueva York en el mismo rango de fechas del dataset.\n"
      ]
    },
    {
      "cell_type": "code",
      "execution_count": null,
      "metadata": {
        "colab": {
          "base_uri": "https://localhost:8080/"
        },
        "collapsed": true,
        "execution": {
          "iopub.execute_input": "2025-09-02T18:15:57.360805Z",
          "iopub.status.busy": "2025-09-02T18:15:57.360506Z",
          "iopub.status.idle": "2025-09-02T18:16:01.462534Z",
          "shell.execute_reply": "2025-09-02T18:16:01.461546Z",
          "shell.execute_reply.started": "2025-09-02T18:15:57.360783Z"
        },
        "id": "XFp3Ep_UqJR6",
        "outputId": "6c51ba0b-dd33-4302-93ec-df5b275e71a1",
        "trusted": true
      },
      "outputs": [
        {
          "name": "stdout",
          "output_type": "stream",
          "text": [
            "Collecting meteostat\n",
            "  Downloading meteostat-1.7.5-py3-none-any.whl.metadata (4.6 kB)\n",
            "Requirement already satisfied: pandas>=2 in /usr/local/lib/python3.12/dist-packages (from meteostat) (2.2.2)\n",
            "Requirement already satisfied: pytz in /usr/local/lib/python3.12/dist-packages (from meteostat) (2025.2)\n",
            "Requirement already satisfied: numpy in /usr/local/lib/python3.12/dist-packages (from meteostat) (2.0.2)\n",
            "Requirement already satisfied: python-dateutil>=2.8.2 in /usr/local/lib/python3.12/dist-packages (from pandas>=2->meteostat) (2.9.0.post0)\n",
            "Requirement already satisfied: tzdata>=2022.7 in /usr/local/lib/python3.12/dist-packages (from pandas>=2->meteostat) (2025.2)\n",
            "Requirement already satisfied: six>=1.5 in /usr/local/lib/python3.12/dist-packages (from python-dateutil>=2.8.2->pandas>=2->meteostat) (1.17.0)\n",
            "Downloading meteostat-1.7.5-py3-none-any.whl (33 kB)\n",
            "Installing collected packages: meteostat\n",
            "Successfully installed meteostat-1.7.5\n"
          ]
        },
        {
          "name": "stderr",
          "output_type": "stream",
          "text": [
            "Warning: Cannot load daily/2015/KNYC0.csv.gz from https://data.meteostat.net/\n",
            "Warning: Cannot load daily/2016/KNYC0.csv.gz from https://data.meteostat.net/\n",
            "Warning: Cannot load hourly/2015/KNYC0.csv.gz from https://data.meteostat.net/\n",
            "FutureWarning: <class 'pandas.core.arrays.string_.StringArray'>._reduce will require a `keepdims` parameter in the future\n",
            "Warning: Cannot load hourly/2016/KNYC0.csv.gz from https://data.meteostat.net/\n",
            "FutureWarning: <class 'pandas.core.arrays.string_.StringArray'>._reduce will require a `keepdims` parameter in the future\n"
          ]
        }
      ],
      "source": [
        "%pip install meteostat\n",
        "from meteostat import Point, Daily, Hourly\n",
        "from datetime import datetime\n",
        "\n",
        "location = Point(40.7128, -74.0060)\n",
        "\n",
        "start = datetime(2015, 12, 31)\n",
        "end = datetime(2016, 7, 31)\n",
        "\n",
        "data_daily = Daily(location, start, end).fetch()\n",
        "data_hourly = Hourly(location, start, end).fetch()\n"
      ]
    },
    {
      "cell_type": "markdown",
      "metadata": {
        "id": "uQYoNud7KVkJ"
      },
      "source": [
        "### 9. Preprocesamiento de datos climáticos\n",
        "Se reinicia el índice, se ajustan zonas horarias y se convierte la columna de tiempo\n",
        "al huso horario de Nueva York para poder unirlo luego con los datos de taxis.\n"
      ]
    },
    {
      "cell_type": "code",
      "execution_count": null,
      "metadata": {
        "execution": {
          "iopub.execute_input": "2025-09-02T18:16:01.464633Z",
          "iopub.status.busy": "2025-09-02T18:16:01.464299Z",
          "iopub.status.idle": "2025-09-02T18:16:01.47629Z",
          "shell.execute_reply": "2025-09-02T18:16:01.474784Z",
          "shell.execute_reply.started": "2025-09-02T18:16:01.464604Z"
        },
        "id": "GBEn1VqXqJR6",
        "trusted": true
      },
      "outputs": [],
      "source": [
        "data_hourly = data_hourly.reset_index().rename(columns={'DatetimeIndex': 'weather_datetime'})\n",
        "data_hourly['time'] = data_hourly['time'].dt.tz_localize('UTC')\n",
        "data_hourly['time_ny'] = data_hourly['time'].dt.tz_convert('America/New_York')\n",
        "data_hourly['time_ny'] = data_hourly['time_ny'].dt.tz_localize(None)"
      ]
    },
    {
      "cell_type": "markdown",
      "metadata": {
        "id": "GB70E02kKYfB"
      },
      "source": [
        "### 10. Función de extracción de características temporales\n",
        "Genera variables adicionales relacionadas con la fecha y hora del viaje, como:\n",
        "día, mes, año, hora, semana y día de la semana.\n"
      ]
    },
    {
      "cell_type": "code",
      "execution_count": null,
      "metadata": {
        "execution": {
          "iopub.execute_input": "2025-09-02T18:16:01.477625Z",
          "iopub.status.busy": "2025-09-02T18:16:01.477306Z",
          "iopub.status.idle": "2025-09-02T18:16:01.494839Z",
          "shell.execute_reply": "2025-09-02T18:16:01.493701Z",
          "shell.execute_reply.started": "2025-09-02T18:16:01.477598Z"
        },
        "id": "4qfu8cYmqJR6",
        "trusted": true
      },
      "outputs": [],
      "source": [
        "def time_features(df):\n",
        "    \"\"\"\n",
        "    Extrae características temporales de la columna 'pickup_datetime' para enriquecer el dataset.\n",
        "\n",
        "    Args:\n",
        "        df (pd.DataFrame): DataFrame que contiene la columna 'pickup_datetime'.\n",
        "\n",
        "    Returns:\n",
        "        pd.DataFrame: DataFrame con nuevas columnas:\n",
        "            - 'pickup_day': día del mes\n",
        "            - 'pickup_month': mes\n",
        "            - 'pickup_year': año\n",
        "            - 'pickup_hour': hora del día\n",
        "            - 'pickup_week': número de semana\n",
        "            - 'pickup_datetime_hour_trunc': fecha truncada a la hora\n",
        "            - 'pickup_dayofweek': día de la semana (0 = lunes, 6 = domingo)\n",
        "    \"\"\"\n",
        "    df['pickup_day'] = df['pickup_datetime'].dt.day\n",
        "    df['pickup_month'] = df['pickup_datetime'].dt.month\n",
        "    df['pickup_year'] = df['pickup_datetime'].dt.year\n",
        "    df['pickup_hour'] = df['pickup_datetime'].dt.hour\n",
        "    df['pickup_week'] = df['pickup_datetime'].dt.isocalendar()['week']\n",
        "    df['pickup_datetime_hour_trunc'] = df['pickup_datetime'].dt.floor('h')\n",
        "    df['pickup_dayofweek'] = df['pickup_datetime'].dt.dayofweek\n",
        "    return df"
      ]
    },
    {
      "cell_type": "markdown",
      "metadata": {
        "id": "ANeh2v6GKcJ5"
      },
      "source": [
        "### 11. Función para unir clima con datos de viajes\n",
        "Realiza un `merge` entre el DataFrame de taxis y el de clima, usando como clave la hora\n",
        "truncada del `pickup_datetime`.\n"
      ]
    },
    {
      "cell_type": "code",
      "execution_count": null,
      "metadata": {
        "execution": {
          "iopub.execute_input": "2025-09-02T18:16:01.498842Z",
          "iopub.status.busy": "2025-09-02T18:16:01.498537Z",
          "iopub.status.idle": "2025-09-02T18:16:01.520383Z",
          "shell.execute_reply": "2025-09-02T18:16:01.51932Z",
          "shell.execute_reply.started": "2025-09-02T18:16:01.498818Z"
        },
        "id": "0YKCGk5nqJR7",
        "trusted": true
      },
      "outputs": [],
      "source": [
        "def weather_merge(df):\n",
        "    \"\"\"\n",
        "    Une los datos meteorológicos horarios con el dataset de viajes de taxi.\n",
        "\n",
        "    Args:\n",
        "        df (pd.DataFrame): DataFrame con la columna 'pickup_datetime_hour_trunc'\n",
        "            que representa la fecha-hora truncada al inicio de la hora.\n",
        "\n",
        "    Returns:\n",
        "        pd.DataFrame: DataFrame con las columnas originales más las variables\n",
        "        climáticas provenientes del DataFrame 'data_hourly' (ej. temperatura, precipitación).\n",
        "    \"\"\"\n",
        "    merged_df = df.merge(data_hourly,how='left',left_on='pickup_datetime_hour_trunc',right_on='time_ny')\n",
        "    return merged_df"
      ]
    },
    {
      "cell_type": "markdown",
      "metadata": {
        "id": "bdyE0bXkKizh"
      },
      "source": [
        "### 12. Selección de características\n",
        "Se define la lista de variables (`features`) que se usarán como entrada en el modelo de predicción.\n"
      ]
    },
    {
      "cell_type": "code",
      "execution_count": null,
      "metadata": {
        "execution": {
          "iopub.execute_input": "2025-09-02T18:16:01.645731Z",
          "iopub.status.busy": "2025-09-02T18:16:01.645337Z",
          "iopub.status.idle": "2025-09-02T18:16:01.667042Z",
          "shell.execute_reply": "2025-09-02T18:16:01.665618Z",
          "shell.execute_reply.started": "2025-09-02T18:16:01.645704Z"
        },
        "id": "rBRtSGTLqJR8",
        "trusted": true
      },
      "outputs": [],
      "source": [
        "features = [\n",
        "    'passenger_count',\n",
        "    'pickup_longitude',\n",
        "    'pickup_latitude',\n",
        "    'dropoff_longitude',\n",
        "    'dropoff_latitude',\n",
        "    'distance_km',\n",
        "    'pickup_day',\n",
        "    # 'pickup_month',\n",
        "    'pickup_hour',\n",
        "    # 'pickup_year',\n",
        "    # 'pickup_week',\n",
        "    'pickup_dayofweek',\n",
        "    'temp','prcp'\n",
        "]"
      ]
    },
    {
      "cell_type": "markdown",
      "metadata": {
        "id": "HrbcUbZzKmRJ"
      },
      "source": [
        "### 13. Función para dividir los datos en X (features) e y (variable objetivo)\n",
        "Se separa la variable `trip_duration` de las variables predictoras seleccionadas.\n"
      ]
    },
    {
      "cell_type": "code",
      "execution_count": null,
      "metadata": {
        "execution": {
          "iopub.execute_input": "2025-09-02T18:16:01.668648Z",
          "iopub.status.busy": "2025-09-02T18:16:01.668234Z",
          "iopub.status.idle": "2025-09-02T18:16:01.688024Z",
          "shell.execute_reply": "2025-09-02T18:16:01.686862Z",
          "shell.execute_reply.started": "2025-09-02T18:16:01.668612Z"
        },
        "id": "9I4bi38YqJR8",
        "trusted": true
      },
      "outputs": [],
      "source": [
        "def train_split(df):\n",
        "    \"\"\"\n",
        "    Separa las variables predictoras (X) y la variable objetivo (y) del dataset.\n",
        "\n",
        "    Args:\n",
        "        df (pd.DataFrame): DataFrame que contiene las columnas de entrada definidas en 'features'\n",
        "            y la columna objetivo 'trip_duration'.\n",
        "\n",
        "    Returns:\n",
        "        tuple:\n",
        "            - X_train (pd.DataFrame): DataFrame con las variables predictoras seleccionadas.\n",
        "            - y_train (pd.Series): Serie con la variable objetivo (duración del viaje).\n",
        "    \"\"\"\n",
        "    X_train = df[features]\n",
        "    y_train = df['trip_duration']\n",
        "    return X_train, y_train"
      ]
    },
    {
      "cell_type": "markdown",
      "metadata": {
        "id": "DB_t_vuFKoiB"
      },
      "source": [
        "### 14. Importación de modelos y utilidades de scikit-learn\n",
        "Se importan modelos de regresión y métricas de evaluación.  \n",
        "Aunque también se consideran Random Forest y Gradient Boosting, en esta versión se empleará LightGBM.\n"
      ]
    },
    {
      "cell_type": "code",
      "execution_count": null,
      "metadata": {
        "execution": {
          "iopub.execute_input": "2025-09-02T18:16:01.689418Z",
          "iopub.status.busy": "2025-09-02T18:16:01.689114Z",
          "iopub.status.idle": "2025-09-02T18:16:01.710133Z",
          "shell.execute_reply": "2025-09-02T18:16:01.70887Z",
          "shell.execute_reply.started": "2025-09-02T18:16:01.689389Z"
        },
        "id": "H1jUpOk2qJR8",
        "trusted": true
      },
      "outputs": [],
      "source": [
        "from sklearn.ensemble import RandomForestRegressor, GradientBoostingRegressor\n",
        "from sklearn.feature_selection import SelectKBest, f_regression, mutual_info_regression"
      ]
    },
    {
      "cell_type": "code",
      "execution_count": null,
      "metadata": {
        "execution": {
          "iopub.execute_input": "2025-09-02T18:16:01.815257Z",
          "iopub.status.busy": "2025-09-02T18:16:01.814941Z",
          "iopub.status.idle": "2025-09-02T18:16:01.830891Z",
          "shell.execute_reply": "2025-09-02T18:16:01.829835Z",
          "shell.execute_reply.started": "2025-09-02T18:16:01.815232Z"
        },
        "id": "5OAl1aEKqJR9",
        "trusted": true
      },
      "outputs": [],
      "source": [
        "from sklearn.metrics import mean_squared_error, r2_score"
      ]
    },
    {
      "cell_type": "markdown",
      "metadata": {
        "id": "_50tXzdMKsMZ"
      },
      "source": [
        "### 15. Preparación de los datos de entrenamiento y prueba\n",
        "Se aplican las funciones de cálculo de distancia, extracción de variables temporales\n",
        "y unión con el clima para preparar los datasets antes de entrenar el modelo.\n"
      ]
    },
    {
      "cell_type": "code",
      "execution_count": null,
      "metadata": {
        "execution": {
          "iopub.execute_input": "2025-09-02T18:16:01.832308Z",
          "iopub.status.busy": "2025-09-02T18:16:01.831984Z",
          "iopub.status.idle": "2025-09-02T18:16:03.329975Z",
          "shell.execute_reply": "2025-09-02T18:16:03.329063Z",
          "shell.execute_reply.started": "2025-09-02T18:16:01.832277Z"
        },
        "id": "TCx2uavTqJR9",
        "trusted": true
      },
      "outputs": [],
      "source": [
        "train_df = distance(train)\n",
        "train_df = time_features(train_df)\n",
        "train_merged = weather_merge(train_df)\n",
        "X_train, y_train = train_split(train_merged)\n",
        "\n",
        "test_df = distance(test)\n",
        "test_df = time_features(test_df)\n",
        "test_merged = weather_merge(test_df)\n"
      ]
    },
    {
      "cell_type": "markdown",
      "metadata": {
        "id": "pG20Foi5KuUR"
      },
      "source": [
        "### 16. Entrenamiento del modelo con LightGBM\n",
        "Se entrena un modelo de regresión `LGBMRegressor` utilizando los datos procesados.\n"
      ]
    },
    {
      "cell_type": "code",
      "execution_count": null,
      "metadata": {
        "colab": {
          "base_uri": "https://localhost:8080/",
          "height": 184
        },
        "collapsed": true,
        "execution": {
          "iopub.execute_input": "2025-09-02T18:16:03.331226Z",
          "iopub.status.busy": "2025-09-02T18:16:03.330921Z",
          "iopub.status.idle": "2025-09-02T18:16:09.07496Z",
          "shell.execute_reply": "2025-09-02T18:16:09.073928Z",
          "shell.execute_reply.started": "2025-09-02T18:16:03.331195Z"
        },
        "id": "CTaNQsW8qJR9",
        "outputId": "a837f55e-1324-49fe-a66f-10ce74a22f45",
        "trusted": true
      },
      "outputs": [
        {
          "name": "stdout",
          "output_type": "stream",
          "text": [
            "[LightGBM] [Info] Auto-choosing row-wise multi-threading, the overhead of testing was 0.185501 seconds.\n",
            "You can set `force_row_wise=true` to remove the overhead.\n",
            "And if memory is not enough, you can set `force_col_wise=true`.\n",
            "[LightGBM] [Info] Total Bins 1500\n",
            "[LightGBM] [Info] Number of data points in the train set: 1458644, number of used features: 11\n",
            "[LightGBM] [Info] Start training from score 959.492273\n"
          ]
        },
        {
          "data": {
            "text/html": [
              "<style>#sk-container-id-1 {\n",
              "  /* Definition of color scheme common for light and dark mode */\n",
              "  --sklearn-color-text: #000;\n",
              "  --sklearn-color-text-muted: #666;\n",
              "  --sklearn-color-line: gray;\n",
              "  /* Definition of color scheme for unfitted estimators */\n",
              "  --sklearn-color-unfitted-level-0: #fff5e6;\n",
              "  --sklearn-color-unfitted-level-1: #f6e4d2;\n",
              "  --sklearn-color-unfitted-level-2: #ffe0b3;\n",
              "  --sklearn-color-unfitted-level-3: chocolate;\n",
              "  /* Definition of color scheme for fitted estimators */\n",
              "  --sklearn-color-fitted-level-0: #f0f8ff;\n",
              "  --sklearn-color-fitted-level-1: #d4ebff;\n",
              "  --sklearn-color-fitted-level-2: #b3dbfd;\n",
              "  --sklearn-color-fitted-level-3: cornflowerblue;\n",
              "\n",
              "  /* Specific color for light theme */\n",
              "  --sklearn-color-text-on-default-background: var(--sg-text-color, var(--theme-code-foreground, var(--jp-content-font-color1, black)));\n",
              "  --sklearn-color-background: var(--sg-background-color, var(--theme-background, var(--jp-layout-color0, white)));\n",
              "  --sklearn-color-border-box: var(--sg-text-color, var(--theme-code-foreground, var(--jp-content-font-color1, black)));\n",
              "  --sklearn-color-icon: #696969;\n",
              "\n",
              "  @media (prefers-color-scheme: dark) {\n",
              "    /* Redefinition of color scheme for dark theme */\n",
              "    --sklearn-color-text-on-default-background: var(--sg-text-color, var(--theme-code-foreground, var(--jp-content-font-color1, white)));\n",
              "    --sklearn-color-background: var(--sg-background-color, var(--theme-background, var(--jp-layout-color0, #111)));\n",
              "    --sklearn-color-border-box: var(--sg-text-color, var(--theme-code-foreground, var(--jp-content-font-color1, white)));\n",
              "    --sklearn-color-icon: #878787;\n",
              "  }\n",
              "}\n",
              "\n",
              "#sk-container-id-1 {\n",
              "  color: var(--sklearn-color-text);\n",
              "}\n",
              "\n",
              "#sk-container-id-1 pre {\n",
              "  padding: 0;\n",
              "}\n",
              "\n",
              "#sk-container-id-1 input.sk-hidden--visually {\n",
              "  border: 0;\n",
              "  clip: rect(1px 1px 1px 1px);\n",
              "  clip: rect(1px, 1px, 1px, 1px);\n",
              "  height: 1px;\n",
              "  margin: -1px;\n",
              "  overflow: hidden;\n",
              "  padding: 0;\n",
              "  position: absolute;\n",
              "  width: 1px;\n",
              "}\n",
              "\n",
              "#sk-container-id-1 div.sk-dashed-wrapped {\n",
              "  border: 1px dashed var(--sklearn-color-line);\n",
              "  margin: 0 0.4em 0.5em 0.4em;\n",
              "  box-sizing: border-box;\n",
              "  padding-bottom: 0.4em;\n",
              "  background-color: var(--sklearn-color-background);\n",
              "}\n",
              "\n",
              "#sk-container-id-1 div.sk-container {\n",
              "  /* jupyter's `normalize.less` sets `[hidden] { display: none; }`\n",
              "     but bootstrap.min.css set `[hidden] { display: none !important; }`\n",
              "     so we also need the `!important` here to be able to override the\n",
              "     default hidden behavior on the sphinx rendered scikit-learn.org.\n",
              "     See: https://github.com/scikit-learn/scikit-learn/issues/21755 */\n",
              "  display: inline-block !important;\n",
              "  position: relative;\n",
              "}\n",
              "\n",
              "#sk-container-id-1 div.sk-text-repr-fallback {\n",
              "  display: none;\n",
              "}\n",
              "\n",
              "div.sk-parallel-item,\n",
              "div.sk-serial,\n",
              "div.sk-item {\n",
              "  /* draw centered vertical line to link estimators */\n",
              "  background-image: linear-gradient(var(--sklearn-color-text-on-default-background), var(--sklearn-color-text-on-default-background));\n",
              "  background-size: 2px 100%;\n",
              "  background-repeat: no-repeat;\n",
              "  background-position: center center;\n",
              "}\n",
              "\n",
              "/* Parallel-specific style estimator block */\n",
              "\n",
              "#sk-container-id-1 div.sk-parallel-item::after {\n",
              "  content: \"\";\n",
              "  width: 100%;\n",
              "  border-bottom: 2px solid var(--sklearn-color-text-on-default-background);\n",
              "  flex-grow: 1;\n",
              "}\n",
              "\n",
              "#sk-container-id-1 div.sk-parallel {\n",
              "  display: flex;\n",
              "  align-items: stretch;\n",
              "  justify-content: center;\n",
              "  background-color: var(--sklearn-color-background);\n",
              "  position: relative;\n",
              "}\n",
              "\n",
              "#sk-container-id-1 div.sk-parallel-item {\n",
              "  display: flex;\n",
              "  flex-direction: column;\n",
              "}\n",
              "\n",
              "#sk-container-id-1 div.sk-parallel-item:first-child::after {\n",
              "  align-self: flex-end;\n",
              "  width: 50%;\n",
              "}\n",
              "\n",
              "#sk-container-id-1 div.sk-parallel-item:last-child::after {\n",
              "  align-self: flex-start;\n",
              "  width: 50%;\n",
              "}\n",
              "\n",
              "#sk-container-id-1 div.sk-parallel-item:only-child::after {\n",
              "  width: 0;\n",
              "}\n",
              "\n",
              "/* Serial-specific style estimator block */\n",
              "\n",
              "#sk-container-id-1 div.sk-serial {\n",
              "  display: flex;\n",
              "  flex-direction: column;\n",
              "  align-items: center;\n",
              "  background-color: var(--sklearn-color-background);\n",
              "  padding-right: 1em;\n",
              "  padding-left: 1em;\n",
              "}\n",
              "\n",
              "\n",
              "/* Toggleable style: style used for estimator/Pipeline/ColumnTransformer box that is\n",
              "clickable and can be expanded/collapsed.\n",
              "- Pipeline and ColumnTransformer use this feature and define the default style\n",
              "- Estimators will overwrite some part of the style using the `sk-estimator` class\n",
              "*/\n",
              "\n",
              "/* Pipeline and ColumnTransformer style (default) */\n",
              "\n",
              "#sk-container-id-1 div.sk-toggleable {\n",
              "  /* Default theme specific background. It is overwritten whether we have a\n",
              "  specific estimator or a Pipeline/ColumnTransformer */\n",
              "  background-color: var(--sklearn-color-background);\n",
              "}\n",
              "\n",
              "/* Toggleable label */\n",
              "#sk-container-id-1 label.sk-toggleable__label {\n",
              "  cursor: pointer;\n",
              "  display: flex;\n",
              "  width: 100%;\n",
              "  margin-bottom: 0;\n",
              "  padding: 0.5em;\n",
              "  box-sizing: border-box;\n",
              "  text-align: center;\n",
              "  align-items: start;\n",
              "  justify-content: space-between;\n",
              "  gap: 0.5em;\n",
              "}\n",
              "\n",
              "#sk-container-id-1 label.sk-toggleable__label .caption {\n",
              "  font-size: 0.6rem;\n",
              "  font-weight: lighter;\n",
              "  color: var(--sklearn-color-text-muted);\n",
              "}\n",
              "\n",
              "#sk-container-id-1 label.sk-toggleable__label-arrow:before {\n",
              "  /* Arrow on the left of the label */\n",
              "  content: \"▸\";\n",
              "  float: left;\n",
              "  margin-right: 0.25em;\n",
              "  color: var(--sklearn-color-icon);\n",
              "}\n",
              "\n",
              "#sk-container-id-1 label.sk-toggleable__label-arrow:hover:before {\n",
              "  color: var(--sklearn-color-text);\n",
              "}\n",
              "\n",
              "/* Toggleable content - dropdown */\n",
              "\n",
              "#sk-container-id-1 div.sk-toggleable__content {\n",
              "  max-height: 0;\n",
              "  max-width: 0;\n",
              "  overflow: hidden;\n",
              "  text-align: left;\n",
              "  /* unfitted */\n",
              "  background-color: var(--sklearn-color-unfitted-level-0);\n",
              "}\n",
              "\n",
              "#sk-container-id-1 div.sk-toggleable__content.fitted {\n",
              "  /* fitted */\n",
              "  background-color: var(--sklearn-color-fitted-level-0);\n",
              "}\n",
              "\n",
              "#sk-container-id-1 div.sk-toggleable__content pre {\n",
              "  margin: 0.2em;\n",
              "  border-radius: 0.25em;\n",
              "  color: var(--sklearn-color-text);\n",
              "  /* unfitted */\n",
              "  background-color: var(--sklearn-color-unfitted-level-0);\n",
              "}\n",
              "\n",
              "#sk-container-id-1 div.sk-toggleable__content.fitted pre {\n",
              "  /* unfitted */\n",
              "  background-color: var(--sklearn-color-fitted-level-0);\n",
              "}\n",
              "\n",
              "#sk-container-id-1 input.sk-toggleable__control:checked~div.sk-toggleable__content {\n",
              "  /* Expand drop-down */\n",
              "  max-height: 200px;\n",
              "  max-width: 100%;\n",
              "  overflow: auto;\n",
              "}\n",
              "\n",
              "#sk-container-id-1 input.sk-toggleable__control:checked~label.sk-toggleable__label-arrow:before {\n",
              "  content: \"▾\";\n",
              "}\n",
              "\n",
              "/* Pipeline/ColumnTransformer-specific style */\n",
              "\n",
              "#sk-container-id-1 div.sk-label input.sk-toggleable__control:checked~label.sk-toggleable__label {\n",
              "  color: var(--sklearn-color-text);\n",
              "  background-color: var(--sklearn-color-unfitted-level-2);\n",
              "}\n",
              "\n",
              "#sk-container-id-1 div.sk-label.fitted input.sk-toggleable__control:checked~label.sk-toggleable__label {\n",
              "  background-color: var(--sklearn-color-fitted-level-2);\n",
              "}\n",
              "\n",
              "/* Estimator-specific style */\n",
              "\n",
              "/* Colorize estimator box */\n",
              "#sk-container-id-1 div.sk-estimator input.sk-toggleable__control:checked~label.sk-toggleable__label {\n",
              "  /* unfitted */\n",
              "  background-color: var(--sklearn-color-unfitted-level-2);\n",
              "}\n",
              "\n",
              "#sk-container-id-1 div.sk-estimator.fitted input.sk-toggleable__control:checked~label.sk-toggleable__label {\n",
              "  /* fitted */\n",
              "  background-color: var(--sklearn-color-fitted-level-2);\n",
              "}\n",
              "\n",
              "#sk-container-id-1 div.sk-label label.sk-toggleable__label,\n",
              "#sk-container-id-1 div.sk-label label {\n",
              "  /* The background is the default theme color */\n",
              "  color: var(--sklearn-color-text-on-default-background);\n",
              "}\n",
              "\n",
              "/* On hover, darken the color of the background */\n",
              "#sk-container-id-1 div.sk-label:hover label.sk-toggleable__label {\n",
              "  color: var(--sklearn-color-text);\n",
              "  background-color: var(--sklearn-color-unfitted-level-2);\n",
              "}\n",
              "\n",
              "/* Label box, darken color on hover, fitted */\n",
              "#sk-container-id-1 div.sk-label.fitted:hover label.sk-toggleable__label.fitted {\n",
              "  color: var(--sklearn-color-text);\n",
              "  background-color: var(--sklearn-color-fitted-level-2);\n",
              "}\n",
              "\n",
              "/* Estimator label */\n",
              "\n",
              "#sk-container-id-1 div.sk-label label {\n",
              "  font-family: monospace;\n",
              "  font-weight: bold;\n",
              "  display: inline-block;\n",
              "  line-height: 1.2em;\n",
              "}\n",
              "\n",
              "#sk-container-id-1 div.sk-label-container {\n",
              "  text-align: center;\n",
              "}\n",
              "\n",
              "/* Estimator-specific */\n",
              "#sk-container-id-1 div.sk-estimator {\n",
              "  font-family: monospace;\n",
              "  border: 1px dotted var(--sklearn-color-border-box);\n",
              "  border-radius: 0.25em;\n",
              "  box-sizing: border-box;\n",
              "  margin-bottom: 0.5em;\n",
              "  /* unfitted */\n",
              "  background-color: var(--sklearn-color-unfitted-level-0);\n",
              "}\n",
              "\n",
              "#sk-container-id-1 div.sk-estimator.fitted {\n",
              "  /* fitted */\n",
              "  background-color: var(--sklearn-color-fitted-level-0);\n",
              "}\n",
              "\n",
              "/* on hover */\n",
              "#sk-container-id-1 div.sk-estimator:hover {\n",
              "  /* unfitted */\n",
              "  background-color: var(--sklearn-color-unfitted-level-2);\n",
              "}\n",
              "\n",
              "#sk-container-id-1 div.sk-estimator.fitted:hover {\n",
              "  /* fitted */\n",
              "  background-color: var(--sklearn-color-fitted-level-2);\n",
              "}\n",
              "\n",
              "/* Specification for estimator info (e.g. \"i\" and \"?\") */\n",
              "\n",
              "/* Common style for \"i\" and \"?\" */\n",
              "\n",
              ".sk-estimator-doc-link,\n",
              "a:link.sk-estimator-doc-link,\n",
              "a:visited.sk-estimator-doc-link {\n",
              "  float: right;\n",
              "  font-size: smaller;\n",
              "  line-height: 1em;\n",
              "  font-family: monospace;\n",
              "  background-color: var(--sklearn-color-background);\n",
              "  border-radius: 1em;\n",
              "  height: 1em;\n",
              "  width: 1em;\n",
              "  text-decoration: none !important;\n",
              "  margin-left: 0.5em;\n",
              "  text-align: center;\n",
              "  /* unfitted */\n",
              "  border: var(--sklearn-color-unfitted-level-1) 1pt solid;\n",
              "  color: var(--sklearn-color-unfitted-level-1);\n",
              "}\n",
              "\n",
              ".sk-estimator-doc-link.fitted,\n",
              "a:link.sk-estimator-doc-link.fitted,\n",
              "a:visited.sk-estimator-doc-link.fitted {\n",
              "  /* fitted */\n",
              "  border: var(--sklearn-color-fitted-level-1) 1pt solid;\n",
              "  color: var(--sklearn-color-fitted-level-1);\n",
              "}\n",
              "\n",
              "/* On hover */\n",
              "div.sk-estimator:hover .sk-estimator-doc-link:hover,\n",
              ".sk-estimator-doc-link:hover,\n",
              "div.sk-label-container:hover .sk-estimator-doc-link:hover,\n",
              ".sk-estimator-doc-link:hover {\n",
              "  /* unfitted */\n",
              "  background-color: var(--sklearn-color-unfitted-level-3);\n",
              "  color: var(--sklearn-color-background);\n",
              "  text-decoration: none;\n",
              "}\n",
              "\n",
              "div.sk-estimator.fitted:hover .sk-estimator-doc-link.fitted:hover,\n",
              ".sk-estimator-doc-link.fitted:hover,\n",
              "div.sk-label-container:hover .sk-estimator-doc-link.fitted:hover,\n",
              ".sk-estimator-doc-link.fitted:hover {\n",
              "  /* fitted */\n",
              "  background-color: var(--sklearn-color-fitted-level-3);\n",
              "  color: var(--sklearn-color-background);\n",
              "  text-decoration: none;\n",
              "}\n",
              "\n",
              "/* Span, style for the box shown on hovering the info icon */\n",
              ".sk-estimator-doc-link span {\n",
              "  display: none;\n",
              "  z-index: 9999;\n",
              "  position: relative;\n",
              "  font-weight: normal;\n",
              "  right: .2ex;\n",
              "  padding: .5ex;\n",
              "  margin: .5ex;\n",
              "  width: min-content;\n",
              "  min-width: 20ex;\n",
              "  max-width: 50ex;\n",
              "  color: var(--sklearn-color-text);\n",
              "  box-shadow: 2pt 2pt 4pt #999;\n",
              "  /* unfitted */\n",
              "  background: var(--sklearn-color-unfitted-level-0);\n",
              "  border: .5pt solid var(--sklearn-color-unfitted-level-3);\n",
              "}\n",
              "\n",
              ".sk-estimator-doc-link.fitted span {\n",
              "  /* fitted */\n",
              "  background: var(--sklearn-color-fitted-level-0);\n",
              "  border: var(--sklearn-color-fitted-level-3);\n",
              "}\n",
              "\n",
              ".sk-estimator-doc-link:hover span {\n",
              "  display: block;\n",
              "}\n",
              "\n",
              "/* \"?\"-specific style due to the `<a>` HTML tag */\n",
              "\n",
              "#sk-container-id-1 a.estimator_doc_link {\n",
              "  float: right;\n",
              "  font-size: 1rem;\n",
              "  line-height: 1em;\n",
              "  font-family: monospace;\n",
              "  background-color: var(--sklearn-color-background);\n",
              "  border-radius: 1rem;\n",
              "  height: 1rem;\n",
              "  width: 1rem;\n",
              "  text-decoration: none;\n",
              "  /* unfitted */\n",
              "  color: var(--sklearn-color-unfitted-level-1);\n",
              "  border: var(--sklearn-color-unfitted-level-1) 1pt solid;\n",
              "}\n",
              "\n",
              "#sk-container-id-1 a.estimator_doc_link.fitted {\n",
              "  /* fitted */\n",
              "  border: var(--sklearn-color-fitted-level-1) 1pt solid;\n",
              "  color: var(--sklearn-color-fitted-level-1);\n",
              "}\n",
              "\n",
              "/* On hover */\n",
              "#sk-container-id-1 a.estimator_doc_link:hover {\n",
              "  /* unfitted */\n",
              "  background-color: var(--sklearn-color-unfitted-level-3);\n",
              "  color: var(--sklearn-color-background);\n",
              "  text-decoration: none;\n",
              "}\n",
              "\n",
              "#sk-container-id-1 a.estimator_doc_link.fitted:hover {\n",
              "  /* fitted */\n",
              "  background-color: var(--sklearn-color-fitted-level-3);\n",
              "}\n",
              "</style><div id=\"sk-container-id-1\" class=\"sk-top-container\"><div class=\"sk-text-repr-fallback\"><pre>LGBMRegressor()</pre><b>In a Jupyter environment, please rerun this cell to show the HTML representation or trust the notebook. <br />On GitHub, the HTML representation is unable to render, please try loading this page with nbviewer.org.</b></div><div class=\"sk-container\" hidden><div class=\"sk-item\"><div class=\"sk-estimator fitted sk-toggleable\"><input class=\"sk-toggleable__control sk-hidden--visually\" id=\"sk-estimator-id-1\" type=\"checkbox\" checked><label for=\"sk-estimator-id-1\" class=\"sk-toggleable__label fitted sk-toggleable__label-arrow\"><div><div>LGBMRegressor</div></div><div><span class=\"sk-estimator-doc-link fitted\">i<span>Fitted</span></span></div></label><div class=\"sk-toggleable__content fitted\"><pre>LGBMRegressor()</pre></div> </div></div></div></div>"
            ],
            "text/plain": [
              "LGBMRegressor()"
            ]
          },
          "execution_count": 22,
          "metadata": {},
          "output_type": "execute_result"
        }
      ],
      "source": [
        "import lightgbm as lgb\n",
        "from lightgbm import LGBMRegressor\n",
        "\n",
        "lgbm = lgb.LGBMRegressor()\n",
        "lgbm.fit(X_train, y_train)\n"
      ]
    },
    {
      "cell_type": "markdown",
      "metadata": {
        "id": "BpSHDCNiKyQx"
      },
      "source": [
        "### 17. Predicción y generación de archivo de submission\n",
        "Se generan las predicciones para el conjunto de prueba y se guardan en un archivo\n",
        "`submission.csv` con el formato requerido por la competición.  \n",
        "Este archivo está listo para ser cargado en Kaggle como solución.\n"
      ]
    },
    {
      "cell_type": "code",
      "execution_count": null,
      "metadata": {
        "execution": {
          "iopub.execute_input": "2025-09-02T18:16:09.076296Z",
          "iopub.status.busy": "2025-09-02T18:16:09.075966Z",
          "iopub.status.idle": "2025-09-02T18:16:10.755113Z",
          "shell.execute_reply": "2025-09-02T18:16:10.753963Z",
          "shell.execute_reply.started": "2025-09-02T18:16:09.076267Z"
        },
        "id": "NjlKZ8zGqJR9",
        "trusted": true
      },
      "outputs": [],
      "source": [
        "y_pred = lgbm.predict(test_merged[features])"
      ]
    },
    {
      "cell_type": "code",
      "execution_count": null,
      "metadata": {
        "execution": {
          "iopub.execute_input": "2025-09-02T18:16:10.756856Z",
          "iopub.status.busy": "2025-09-02T18:16:10.756336Z",
          "iopub.status.idle": "2025-09-02T18:16:10.770096Z",
          "shell.execute_reply": "2025-09-02T18:16:10.769058Z",
          "shell.execute_reply.started": "2025-09-02T18:16:10.756829Z"
        },
        "id": "EwanI8NwqJR9",
        "trusted": true
      },
      "outputs": [],
      "source": [
        "submission = pd.DataFrame({'id': test.id, 'trip_duration': (y_pred)})"
      ]
    },
    {
      "cell_type": "code",
      "execution_count": null,
      "metadata": {
        "execution": {
          "iopub.execute_input": "2025-09-02T18:16:10.771549Z",
          "iopub.status.busy": "2025-09-02T18:16:10.771135Z",
          "iopub.status.idle": "2025-09-02T18:16:12.232005Z",
          "shell.execute_reply": "2025-09-02T18:16:12.230795Z",
          "shell.execute_reply.started": "2025-09-02T18:16:10.771513Z"
        },
        "id": "4CpmM4_2qJR9",
        "trusted": true
      },
      "outputs": [],
      "source": [
        "submission.to_csv(\"submission.csv\", index=False)"
      ]
    }
  ],
  "metadata": {
    "colab": {
      "provenance": []
    },
    "kaggle": {
      "accelerator": "none",
      "dataSources": [
        {
          "databundleVersionId": 44258,
          "sourceId": 6960,
          "sourceType": "competition"
        }
      ],
      "dockerImageVersionId": 31089,
      "isGpuEnabled": false,
      "isInternetEnabled": true,
      "language": "python",
      "sourceType": "notebook"
    },
    "kernelspec": {
      "display_name": ".venv",
      "language": "python",
      "name": "python3"
    },
    "language_info": {
      "codemirror_mode": {
        "name": "ipython",
        "version": 3
      },
      "file_extension": ".py",
      "mimetype": "text/x-python",
      "name": "python",
      "nbconvert_exporter": "python",
      "pygments_lexer": "ipython3",
      "version": "3.12.3"
    },
    "widgets": {
      "application/vnd.jupyter.widget-state+json": {
        "2e5a92a7bab44645b1f5d84640479d84": {
          "model_module": "@jupyter-widgets/base",
          "model_module_version": "1.2.0",
          "model_name": "LayoutModel",
          "state": {
            "_model_module": "@jupyter-widgets/base",
            "_model_module_version": "1.2.0",
            "_model_name": "LayoutModel",
            "_view_count": null,
            "_view_module": "@jupyter-widgets/base",
            "_view_module_version": "1.2.0",
            "_view_name": "LayoutView",
            "align_content": null,
            "align_items": null,
            "align_self": null,
            "border": null,
            "bottom": null,
            "display": null,
            "flex": null,
            "flex_flow": null,
            "grid_area": null,
            "grid_auto_columns": null,
            "grid_auto_flow": null,
            "grid_auto_rows": null,
            "grid_column": null,
            "grid_gap": null,
            "grid_row": null,
            "grid_template_areas": null,
            "grid_template_columns": null,
            "grid_template_rows": null,
            "height": null,
            "justify_content": null,
            "justify_items": null,
            "left": null,
            "margin": null,
            "max_height": null,
            "max_width": null,
            "min_height": null,
            "min_width": null,
            "object_fit": null,
            "object_position": null,
            "order": null,
            "overflow": null,
            "overflow_x": null,
            "overflow_y": null,
            "padding": null,
            "right": null,
            "top": null,
            "visibility": null,
            "width": null
          }
        },
        "30880c444d0042e7acb6573a3249ccfe": {
          "model_module": "@jupyter-widgets/controls",
          "model_module_version": "1.5.0",
          "model_name": "HTMLModel",
          "state": {
            "_dom_classes": [],
            "_model_module": "@jupyter-widgets/controls",
            "_model_module_version": "1.5.0",
            "_model_name": "HTMLModel",
            "_view_count": null,
            "_view_module": "@jupyter-widgets/controls",
            "_view_module_version": "1.5.0",
            "_view_name": "HTMLView",
            "description": "",
            "description_tooltip": null,
            "layout": "IPY_MODEL_2e5a92a7bab44645b1f5d84640479d84",
            "placeholder": "​",
            "style": "IPY_MODEL_b383fad706184c99b4087869d69a2482",
            "value": "\n<b>Thank You</b></center>"
          }
        },
        "36e1afea2a15480a9c86d4ed75ba9e6f": {
          "model_module": "@jupyter-widgets/controls",
          "model_module_version": "1.5.0",
          "model_name": "TextModel",
          "state": {
            "_dom_classes": [],
            "_model_module": "@jupyter-widgets/controls",
            "_model_module_version": "1.5.0",
            "_model_name": "TextModel",
            "_view_count": null,
            "_view_module": "@jupyter-widgets/controls",
            "_view_module_version": "1.5.0",
            "_view_name": "TextView",
            "continuous_update": true,
            "description": "Username:",
            "description_tooltip": null,
            "disabled": false,
            "layout": "IPY_MODEL_3b704de778d34a93857ff8dfcd3012b8",
            "placeholder": "​",
            "style": "IPY_MODEL_c89cde7e429f49a9a483d166a3583f4d",
            "value": ""
          }
        },
        "3b704de778d34a93857ff8dfcd3012b8": {
          "model_module": "@jupyter-widgets/base",
          "model_module_version": "1.2.0",
          "model_name": "LayoutModel",
          "state": {
            "_model_module": "@jupyter-widgets/base",
            "_model_module_version": "1.2.0",
            "_model_name": "LayoutModel",
            "_view_count": null,
            "_view_module": "@jupyter-widgets/base",
            "_view_module_version": "1.2.0",
            "_view_name": "LayoutView",
            "align_content": null,
            "align_items": null,
            "align_self": null,
            "border": null,
            "bottom": null,
            "display": null,
            "flex": null,
            "flex_flow": null,
            "grid_area": null,
            "grid_auto_columns": null,
            "grid_auto_flow": null,
            "grid_auto_rows": null,
            "grid_column": null,
            "grid_gap": null,
            "grid_row": null,
            "grid_template_areas": null,
            "grid_template_columns": null,
            "grid_template_rows": null,
            "height": null,
            "justify_content": null,
            "justify_items": null,
            "left": null,
            "margin": null,
            "max_height": null,
            "max_width": null,
            "min_height": null,
            "min_width": null,
            "object_fit": null,
            "object_position": null,
            "order": null,
            "overflow": null,
            "overflow_x": null,
            "overflow_y": null,
            "padding": null,
            "right": null,
            "top": null,
            "visibility": null,
            "width": null
          }
        },
        "3b7766f8e5a9422dbef19dc40ee1a5bf": {
          "model_module": "@jupyter-widgets/controls",
          "model_module_version": "1.5.0",
          "model_name": "ButtonStyleModel",
          "state": {
            "_model_module": "@jupyter-widgets/controls",
            "_model_module_version": "1.5.0",
            "_model_name": "ButtonStyleModel",
            "_view_count": null,
            "_view_module": "@jupyter-widgets/base",
            "_view_module_version": "1.2.0",
            "_view_name": "StyleView",
            "button_color": null,
            "font_weight": ""
          }
        },
        "3fb9e0ad2cd041d2bd7aa9b49ee39925": {
          "model_module": "@jupyter-widgets/base",
          "model_module_version": "1.2.0",
          "model_name": "LayoutModel",
          "state": {
            "_model_module": "@jupyter-widgets/base",
            "_model_module_version": "1.2.0",
            "_model_name": "LayoutModel",
            "_view_count": null,
            "_view_module": "@jupyter-widgets/base",
            "_view_module_version": "1.2.0",
            "_view_name": "LayoutView",
            "align_content": null,
            "align_items": null,
            "align_self": null,
            "border": null,
            "bottom": null,
            "display": null,
            "flex": null,
            "flex_flow": null,
            "grid_area": null,
            "grid_auto_columns": null,
            "grid_auto_flow": null,
            "grid_auto_rows": null,
            "grid_column": null,
            "grid_gap": null,
            "grid_row": null,
            "grid_template_areas": null,
            "grid_template_columns": null,
            "grid_template_rows": null,
            "height": null,
            "justify_content": null,
            "justify_items": null,
            "left": null,
            "margin": null,
            "max_height": null,
            "max_width": null,
            "min_height": null,
            "min_width": null,
            "object_fit": null,
            "object_position": null,
            "order": null,
            "overflow": null,
            "overflow_x": null,
            "overflow_y": null,
            "padding": null,
            "right": null,
            "top": null,
            "visibility": null,
            "width": null
          }
        },
        "411a62ed7db94c7c9045f7455c96f3b2": {
          "model_module": "@jupyter-widgets/base",
          "model_module_version": "1.2.0",
          "model_name": "LayoutModel",
          "state": {
            "_model_module": "@jupyter-widgets/base",
            "_model_module_version": "1.2.0",
            "_model_name": "LayoutModel",
            "_view_count": null,
            "_view_module": "@jupyter-widgets/base",
            "_view_module_version": "1.2.0",
            "_view_name": "LayoutView",
            "align_content": null,
            "align_items": null,
            "align_self": null,
            "border": null,
            "bottom": null,
            "display": null,
            "flex": null,
            "flex_flow": null,
            "grid_area": null,
            "grid_auto_columns": null,
            "grid_auto_flow": null,
            "grid_auto_rows": null,
            "grid_column": null,
            "grid_gap": null,
            "grid_row": null,
            "grid_template_areas": null,
            "grid_template_columns": null,
            "grid_template_rows": null,
            "height": null,
            "justify_content": null,
            "justify_items": null,
            "left": null,
            "margin": null,
            "max_height": null,
            "max_width": null,
            "min_height": null,
            "min_width": null,
            "object_fit": null,
            "object_position": null,
            "order": null,
            "overflow": null,
            "overflow_x": null,
            "overflow_y": null,
            "padding": null,
            "right": null,
            "top": null,
            "visibility": null,
            "width": null
          }
        },
        "5d40b45550a546549c6079bbe9fe17cf": {
          "model_module": "@jupyter-widgets/controls",
          "model_module_version": "1.5.0",
          "model_name": "PasswordModel",
          "state": {
            "_dom_classes": [],
            "_model_module": "@jupyter-widgets/controls",
            "_model_module_version": "1.5.0",
            "_model_name": "PasswordModel",
            "_view_count": null,
            "_view_module": "@jupyter-widgets/controls",
            "_view_module_version": "1.5.0",
            "_view_name": "PasswordView",
            "continuous_update": true,
            "description": "Token:",
            "description_tooltip": null,
            "disabled": false,
            "layout": "IPY_MODEL_3fb9e0ad2cd041d2bd7aa9b49ee39925",
            "placeholder": "​",
            "style": "IPY_MODEL_62409ba2867a4da9937c6e730d0c6780",
            "value": ""
          }
        },
        "62409ba2867a4da9937c6e730d0c6780": {
          "model_module": "@jupyter-widgets/controls",
          "model_module_version": "1.5.0",
          "model_name": "DescriptionStyleModel",
          "state": {
            "_model_module": "@jupyter-widgets/controls",
            "_model_module_version": "1.5.0",
            "_model_name": "DescriptionStyleModel",
            "_view_count": null,
            "_view_module": "@jupyter-widgets/base",
            "_view_module_version": "1.2.0",
            "_view_name": "StyleView",
            "description_width": ""
          }
        },
        "80b0cc8fc54f47beaf191917adb033e0": {
          "model_module": "@jupyter-widgets/controls",
          "model_module_version": "1.5.0",
          "model_name": "ButtonModel",
          "state": {
            "_dom_classes": [],
            "_model_module": "@jupyter-widgets/controls",
            "_model_module_version": "1.5.0",
            "_model_name": "ButtonModel",
            "_view_count": null,
            "_view_module": "@jupyter-widgets/controls",
            "_view_module_version": "1.5.0",
            "_view_name": "ButtonView",
            "button_style": "",
            "description": "Login",
            "disabled": false,
            "icon": "",
            "layout": "IPY_MODEL_411a62ed7db94c7c9045f7455c96f3b2",
            "style": "IPY_MODEL_3b7766f8e5a9422dbef19dc40ee1a5bf",
            "tooltip": ""
          }
        },
        "819623c9e06048efa6affa7d69cfc4e3": {
          "model_module": "@jupyter-widgets/base",
          "model_module_version": "1.2.0",
          "model_name": "LayoutModel",
          "state": {
            "_model_module": "@jupyter-widgets/base",
            "_model_module_version": "1.2.0",
            "_model_name": "LayoutModel",
            "_view_count": null,
            "_view_module": "@jupyter-widgets/base",
            "_view_module_version": "1.2.0",
            "_view_name": "LayoutView",
            "align_content": null,
            "align_items": null,
            "align_self": null,
            "border": null,
            "bottom": null,
            "display": null,
            "flex": null,
            "flex_flow": null,
            "grid_area": null,
            "grid_auto_columns": null,
            "grid_auto_flow": null,
            "grid_auto_rows": null,
            "grid_column": null,
            "grid_gap": null,
            "grid_row": null,
            "grid_template_areas": null,
            "grid_template_columns": null,
            "grid_template_rows": null,
            "height": null,
            "justify_content": null,
            "justify_items": null,
            "left": null,
            "margin": null,
            "max_height": null,
            "max_width": null,
            "min_height": null,
            "min_width": null,
            "object_fit": null,
            "object_position": null,
            "order": null,
            "overflow": null,
            "overflow_x": null,
            "overflow_y": null,
            "padding": null,
            "right": null,
            "top": null,
            "visibility": null,
            "width": null
          }
        },
        "8a7780402cbe4e959a1183b6d0c18a3f": {
          "model_module": "@jupyter-widgets/controls",
          "model_module_version": "1.5.0",
          "model_name": "VBoxModel",
          "state": {
            "_dom_classes": [],
            "_model_module": "@jupyter-widgets/controls",
            "_model_module_version": "1.5.0",
            "_model_name": "VBoxModel",
            "_view_count": null,
            "_view_module": "@jupyter-widgets/controls",
            "_view_module_version": "1.5.0",
            "_view_name": "VBoxView",
            "box_style": "",
            "children": [
              "IPY_MODEL_e80866d3a7f641318db61158b7ce4dce",
              "IPY_MODEL_36e1afea2a15480a9c86d4ed75ba9e6f",
              "IPY_MODEL_5d40b45550a546549c6079bbe9fe17cf",
              "IPY_MODEL_80b0cc8fc54f47beaf191917adb033e0",
              "IPY_MODEL_30880c444d0042e7acb6573a3249ccfe"
            ],
            "layout": "IPY_MODEL_a303abcd24604a1e91b97dc0d9510d27"
          }
        },
        "a303abcd24604a1e91b97dc0d9510d27": {
          "model_module": "@jupyter-widgets/base",
          "model_module_version": "1.2.0",
          "model_name": "LayoutModel",
          "state": {
            "_model_module": "@jupyter-widgets/base",
            "_model_module_version": "1.2.0",
            "_model_name": "LayoutModel",
            "_view_count": null,
            "_view_module": "@jupyter-widgets/base",
            "_view_module_version": "1.2.0",
            "_view_name": "LayoutView",
            "align_content": null,
            "align_items": "center",
            "align_self": null,
            "border": null,
            "bottom": null,
            "display": "flex",
            "flex": null,
            "flex_flow": "column",
            "grid_area": null,
            "grid_auto_columns": null,
            "grid_auto_flow": null,
            "grid_auto_rows": null,
            "grid_column": null,
            "grid_gap": null,
            "grid_row": null,
            "grid_template_areas": null,
            "grid_template_columns": null,
            "grid_template_rows": null,
            "height": null,
            "justify_content": null,
            "justify_items": null,
            "left": null,
            "margin": null,
            "max_height": null,
            "max_width": null,
            "min_height": null,
            "min_width": null,
            "object_fit": null,
            "object_position": null,
            "order": null,
            "overflow": null,
            "overflow_x": null,
            "overflow_y": null,
            "padding": null,
            "right": null,
            "top": null,
            "visibility": null,
            "width": "50%"
          }
        },
        "b383fad706184c99b4087869d69a2482": {
          "model_module": "@jupyter-widgets/controls",
          "model_module_version": "1.5.0",
          "model_name": "DescriptionStyleModel",
          "state": {
            "_model_module": "@jupyter-widgets/controls",
            "_model_module_version": "1.5.0",
            "_model_name": "DescriptionStyleModel",
            "_view_count": null,
            "_view_module": "@jupyter-widgets/base",
            "_view_module_version": "1.2.0",
            "_view_name": "StyleView",
            "description_width": ""
          }
        },
        "c89cde7e429f49a9a483d166a3583f4d": {
          "model_module": "@jupyter-widgets/controls",
          "model_module_version": "1.5.0",
          "model_name": "DescriptionStyleModel",
          "state": {
            "_model_module": "@jupyter-widgets/controls",
            "_model_module_version": "1.5.0",
            "_model_name": "DescriptionStyleModel",
            "_view_count": null,
            "_view_module": "@jupyter-widgets/base",
            "_view_module_version": "1.2.0",
            "_view_name": "StyleView",
            "description_width": ""
          }
        },
        "c9cce02a624945a5b6b65d5e75b1bd5a": {
          "model_module": "@jupyter-widgets/controls",
          "model_module_version": "1.5.0",
          "model_name": "DescriptionStyleModel",
          "state": {
            "_model_module": "@jupyter-widgets/controls",
            "_model_module_version": "1.5.0",
            "_model_name": "DescriptionStyleModel",
            "_view_count": null,
            "_view_module": "@jupyter-widgets/base",
            "_view_module_version": "1.2.0",
            "_view_name": "StyleView",
            "description_width": ""
          }
        },
        "e80866d3a7f641318db61158b7ce4dce": {
          "model_module": "@jupyter-widgets/controls",
          "model_module_version": "1.5.0",
          "model_name": "HTMLModel",
          "state": {
            "_dom_classes": [],
            "_model_module": "@jupyter-widgets/controls",
            "_model_module_version": "1.5.0",
            "_model_name": "HTMLModel",
            "_view_count": null,
            "_view_module": "@jupyter-widgets/controls",
            "_view_module_version": "1.5.0",
            "_view_name": "HTMLView",
            "description": "",
            "description_tooltip": null,
            "layout": "IPY_MODEL_819623c9e06048efa6affa7d69cfc4e3",
            "placeholder": "​",
            "style": "IPY_MODEL_c9cce02a624945a5b6b65d5e75b1bd5a",
            "value": "<center> <img\nsrc=https://www.kaggle.com/static/images/site-logo.png\nalt='Kaggle'> <br> Create an API token from <a\nhref=\"https://www.kaggle.com/settings/account\" target=\"_blank\">your Kaggle\nsettings page</a> and paste it below along with your Kaggle username. <br> </center>"
          }
        }
      }
    }
  },
  "nbformat": 4,
  "nbformat_minor": 0
}
